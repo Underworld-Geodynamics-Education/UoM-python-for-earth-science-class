{
 "cells": [
  {
   "cell_type": "markdown",
   "metadata": {},
   "source": [
    "## `external` mount point \n",
    "\n",
    "This folder is the mount point for external volumes in the docker container.\n",
    "When you mount a data volume it will replace the this notebook !\n",
    "\n",
    "If you wish to use this setup to work on your own notebooks then you should\n",
    "follow the [instructions](https://docs.docker.com/engine/userguide/dockervolumes/)\n",
    "on how to mount an external directory to a container\n",
    "\n",
    "``` bash\n",
    "$ docker run -d -P --name UoM-python-course-v1.02 \\\n",
    "        -v /my/local/notebooks:/uom_course/Notebooks/external \\\n",
    "        -t lmoresi/unimelb-python-course:v1.02 \n",
    "```\n",
    "\n",
    "Or, if you use kitematic, point the external volume to your notebooks.\n",
    "\n",
    "If you just want to work on a persistent copy of the data with the example notebooks, then you should\n",
    "mount your directory as the `/uom_course/Notebooks/Mapping/Resources` volume. \n",
    "\n",
    "Questions: [louis.moresi@unimelb.edu.au](mailto:louis.moresi@unimelb.edu.au)\n",
    "\n"
   ]
  },
  {
   "cell_type": "code",
   "execution_count": null,
   "metadata": {
    "collapsed": true
   },
   "outputs": [],
   "source": []
  }
 ],
 "metadata": {
  "kernelspec": {
   "display_name": "Python 2",
   "language": "python",
   "name": "python2"
  },
  "language_info": {
   "codemirror_mode": {
    "name": "ipython",
    "version": 2
   },
   "file_extension": ".py",
   "mimetype": "text/x-python",
   "name": "python",
   "nbconvert_exporter": "python",
   "pygments_lexer": "ipython2",
   "version": "2.7.9"
  }
 },
 "nbformat": 4,
 "nbformat_minor": 0
}
