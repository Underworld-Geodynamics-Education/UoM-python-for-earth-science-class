{
 "cells": [
  {
   "cell_type": "code",
   "execution_count": 1,
   "metadata": {
    "collapsed": false
   },
   "outputs": [
    {
     "name": "stdout",
     "output_type": "stream",
     "text": [
      "Populating the interactive namespace from numpy and matplotlib\n"
     ]
    }
   ],
   "source": [
    "%pylab inline\n",
    "\n",
    "import cartopy.crs as ccrs\n",
    "import matplotlib.pyplot as plt\n",
    "\n",
    "from cartopy.io import PostprocessedRasterSource, LocatedImage\n",
    "from cartopy.io import srtm\n",
    "from cartopy.io.srtm import SRTM3Source\n",
    "import cartopy.feature as cfeature\n",
    "\n",
    "from osgeo import gdal\n",
    "from osgeo import gdal_array\n",
    "\n",
    "import scipy.ndimage\n",
    "import scipy.misc\n",
    "\n",
    "from netCDF4 import Dataset\n"
   ]
  },
  {
   "cell_type": "code",
   "execution_count": 2,
   "metadata": {
    "collapsed": true
   },
   "outputs": [],
   "source": [
    "base_projection     = ccrs.PlateCarree() \n",
    "global_extent     = [-180.0, 180.0, -90.0, 90.0]\n",
    "\n",
    "strainrate_extent=[-180,180,-68,80]\n",
    "strainrate = numpy.loadtxt(\"Resources/sec_invariant_strain_0.2.dat\")\n",
    "strainrate_data = strainrate.reshape(741,1800,3)  # I had to look at the data to work this out !\n",
    "# strainrate_img  = strainrate_data[:,:,2] # Not actually used here !"
   ]
  },
  {
   "cell_type": "code",
   "execution_count": null,
   "metadata": {
    "collapsed": true
   },
   "outputs": [],
   "source": [
    "# Note: we need to manage the memory here since the Docker version can be limited \n",
    "\n",
    "etopo1       = gdal.Open(\"Resources/color_etopo1_ice_low.tif\")\n",
    "etopo_img    = etopo1.ReadAsArray().transpose(1,2,0)\n",
    "del(etopo1)\n",
    "\n",
    "globalrelief      = gdal.Open(\"Resources/HYP_50M_SR_W/HYP_50M_SR_W.tif\")\n",
    "globalrelief_img  = globalrelief.ReadAsArray().transpose(1,2,0)\n",
    "del(globalrelief)\n",
    "\n",
    "globalbathym      = gdal.Open(\"Resources/OB_50M/OB_50M.tif\")\n",
    "globalbathym_img  = globalbathym.ReadAsArray().transpose(1,2,0)\n",
    "del(globalbathym)\n",
    "\n",
    "global_shrelief = gdal.Open(\"Resources/etopo1_grayscale_hillshade.tif\")\n",
    "global_shrelief_img = global_shrelief.ReadAsArray()[::2,::2] / 256.0\n",
    "del(global_shrelief)\n",
    "\n",
    "# Height field only ... \n",
    "etopoH = gdal.Open(\"Resources/ETOPO1_Ice_c_geotiff.tif\") \n",
    "etopoH_img = etopoH.ReadAsArray()[::2,::2]\n",
    "del(etopoH)"
   ]
  },
  {
   "cell_type": "code",
   "execution_count": 8,
   "metadata": {
    "collapsed": false
   },
   "outputs": [
    {
     "ename": "MemoryError",
     "evalue": "",
     "output_type": "error",
     "traceback": [
      "\u001b[1;31m---------------------------------------------------------------------------\u001b[0m",
      "\u001b[1;31mMemoryError\u001b[0m                               Traceback (most recent call last)",
      "\u001b[1;32m<ipython-input-8-502dc6a01930>\u001b[0m in \u001b[0;36m<module>\u001b[1;34m()\u001b[0m\n\u001b[1;32m----> 1\u001b[1;33m \u001b[0metopoH_img2\u001b[0m \u001b[1;33m=\u001b[0m \u001b[1;33m(\u001b[0m\u001b[0metopoH_img\u001b[0m \u001b[1;33m-\u001b[0m \u001b[0metopoH_img\u001b[0m\u001b[1;33m.\u001b[0m\u001b[0mmin\u001b[0m\u001b[1;33m(\u001b[0m\u001b[1;33m)\u001b[0m\u001b[1;33m)\u001b[0m \u001b[1;33m/\u001b[0m \u001b[1;33m(\u001b[0m\u001b[0metopoH_img\u001b[0m\u001b[1;33m.\u001b[0m\u001b[0mmax\u001b[0m\u001b[1;33m(\u001b[0m\u001b[1;33m)\u001b[0m \u001b[1;33m-\u001b[0m \u001b[0metopoH_img\u001b[0m\u001b[1;33m.\u001b[0m\u001b[0mmin\u001b[0m\u001b[1;33m(\u001b[0m\u001b[1;33m)\u001b[0m\u001b[1;33m)\u001b[0m\u001b[1;33m\u001b[0m\u001b[0m\n\u001b[0m",
      "\u001b[1;31mMemoryError\u001b[0m: "
     ]
    }
   ],
   "source": [
    "etopoH_img2 = (etopoH_img - etopoH_img.min()) / (etopoH_img.max() - etopoH_img.min())"
   ]
  },
  {
   "cell_type": "code",
   "execution_count": 5,
   "metadata": {
    "collapsed": false
   },
   "outputs": [
    {
     "name": "stdout",
     "output_type": "stream",
     "text": [
      "(2700, 5400, 3)\n",
      "(5400, 10800, 3)\n",
      "(5400, 10800, 3)\n",
      "(5400, 10800)\n",
      "(5401, 10801)\n"
     ]
    }
   ],
   "source": [
    "print etopo_img.shape\n",
    "print globalrelief_img.shape\n",
    "print globalbathym_img.shape\n",
    "print etopoH_img.shape\n",
    "print global_shrelief_img.shape"
   ]
  },
  {
   "cell_type": "code",
   "execution_count": 6,
   "metadata": {
    "collapsed": false
   },
   "outputs": [],
   "source": [
    "blended_img = np.empty_like(globalrelief_img)\n",
    "blended_img[...,0] = np.where( etopoH_img < 0.0, globalbathym_img[...,0], globalrelief_img[...,0] )\n",
    "blended_img[...,1] = np.where( etopoH_img < 0.0, globalbathym_img[...,1], globalrelief_img[...,1] )\n",
    "blended_img[...,2] = np.where( etopoH_img < 0.0, globalbathym_img[...,2], globalrelief_img[...,2] )"
   ]
  },
  {
   "cell_type": "raw",
   "metadata": {
    "collapsed": false
   },
   "source": [
    "# Do this if the relief / bathym sizes don't match the etopo data\n",
    "\n",
    "# The datasets we downloaded can be manipulated trivially without the need for this\n",
    "# this cell is \"Raw\" and does not get executed.\n",
    "\n",
    "etopoH = gdal.Open(\"Resources/ETOPO1_Ice_g_geotiff.tif\")\n",
    "etopoH_img = etopoH.ReadAsArray()\n",
    "\n",
    "print \n",
    "\n",
    "etopoH_transform = etopoH.GetGeoTransform()\n",
    "globalrelief_transform = globalrelief.GetGeoTransform()\n",
    "\n",
    "# Resize to match globalrelief ... this resize is int only ??\n",
    "\n",
    "globaletopoH = scipy.misc.imresize(etopoH_img, globalrelief_img.shape, mode='F')\n",
    "\n",
    "## How to turn this array back into the appropriate geotiff\n",
    "\n",
    "from osgeo import gdal\n",
    "from osgeo import osr\n",
    "\n",
    "# data exists in 'ary' with values range 0 - 255\n",
    "# Uncomment the next line if ary[0][0] is upper-left corner\n",
    "#ary = numpy.flipup(ary)\n",
    "\n",
    "Ny, Nx = globaletopoH.shape\n",
    "driver = gdal.GetDriverByName(\"GTiff\")\n",
    "# Final argument is optional but will produce much smaller output file\n",
    "ds = driver.Create('output.tif', Nx, Ny, 1, gdal.GDT_Float64, ['COMPRESS=LZW'])\n",
    "\n",
    "# this assumes the projection is Geographic lat/lon WGS 84\n",
    "srs = osr.SpatialReference()\n",
    "srs.ImportFromEPSG(4326)\n",
    "ds.SetProjection(srs.ExportToWkt())\n",
    "\n",
    "ds.SetGeoTransform( globalrelief_transform  ) # define GeoTransform tuple\n",
    "ds.GetRasterBand(1).WriteArray(globaletopoH)\n",
    "ds = None\n"
   ]
  },
  {
   "cell_type": "code",
   "execution_count": 3,
   "metadata": {
    "collapsed": false
   },
   "outputs": [],
   "source": [
    "# img_heights  = etopo_img.reshape(-1)\n",
    "\n",
    "base_projection = ccrs.PlateCarree()\n",
    "global_extent = [ -180, 180, -90, 90 ]\n",
    "\n",
    "coastline = cfeature.NaturalEarthFeature('physical', 'coastline', '50m',\n",
    "                           edgecolor=(0.0,0.0,0.0),\n",
    "                           facecolor=\"none\")\n",
    "\n",
    "rivers = cfeature.NaturalEarthFeature('physical', 'rivers_lake_centerlines', '50m',\n",
    "                                        edgecolor='Blue', facecolor=\"none\")\n",
    "\n",
    "lakes = cfeature.NaturalEarthFeature('physical', 'lakes', '50m',\n",
    "                                        edgecolor=\"blue\", facecolor=\"blue\")\n",
    "\n",
    "ocean = cfeature.NaturalEarthFeature('physical', 'ocean', '50m',\n",
    "                           edgecolor=\"green\",\n",
    "                           facecolor=\"blue\")\n",
    "\n",
    "graticules_5 = cfeature.NaturalEarthFeature('physical', 'graticules_5', '10m',\n",
    "                           edgecolor=\"black\", facecolor=None)\n"
   ]
  },
  {
   "cell_type": "code",
   "execution_count": 12,
   "metadata": {
    "collapsed": false,
    "scrolled": false
   },
   "outputs": [
    {
     "ename": "MemoryError",
     "evalue": "",
     "output_type": "error",
     "traceback": [
      "\u001b[1;31m---------------------------------------------------------------------------\u001b[0m",
      "\u001b[1;31mMemoryError\u001b[0m                               Traceback (most recent call last)",
      "\u001b[1;32m<ipython-input-12-a92f54432cc8>\u001b[0m in \u001b[0;36m<module>\u001b[1;34m()\u001b[0m\n\u001b[0;32m     38\u001b[0m \u001b[1;33m\u001b[0m\u001b[0m\n\u001b[0;32m     39\u001b[0m ax.imshow(etopoH_img, transform=ccrs.PlateCarree(), origin=\"upper\", \n\u001b[1;32m---> 40\u001b[1;33m            alpha=1.0, extent=global_extent, interpolation=\"nearest\", cmap=cm.gray_r, zorder=0)\n\u001b[0m\u001b[0;32m     41\u001b[0m \u001b[1;33m\u001b[0m\u001b[0m\n\u001b[0;32m     42\u001b[0m \u001b[1;33m\u001b[0m\u001b[0m\n",
      "\u001b[1;32m/opt/conda/lib/python2.7/site-packages/cartopy/mpl/geoaxes.py\u001b[0m in \u001b[0;36mimshow\u001b[1;34m(self, img, *args, **kwargs)\u001b[0m\n\u001b[0;32m    831\u001b[0m                                      \u001b[0mtarget_res\u001b[0m\u001b[1;33m=\u001b[0m\u001b[0mregrid_shape\u001b[0m\u001b[1;33m,\u001b[0m\u001b[1;33m\u001b[0m\u001b[0m\n\u001b[0;32m    832\u001b[0m                                      \u001b[0mtarget_extent\u001b[0m\u001b[1;33m=\u001b[0m\u001b[0mtarget_extent\u001b[0m\u001b[1;33m,\u001b[0m\u001b[1;33m\u001b[0m\u001b[0m\n\u001b[1;32m--> 833\u001b[1;33m                                      \u001b[0mmask_extrapolated\u001b[0m\u001b[1;33m=\u001b[0m\u001b[0mTrue\u001b[0m\u001b[1;33m,\u001b[0m\u001b[1;33m\u001b[0m\u001b[0m\n\u001b[0m\u001b[0;32m    834\u001b[0m                                      )\n\u001b[0;32m    835\u001b[0m \u001b[1;33m\u001b[0m\u001b[0m\n",
      "\u001b[1;32m/opt/conda/lib/python2.7/site-packages/cartopy/img_transform.py\u001b[0m in \u001b[0;36mwarp_array\u001b[1;34m(array, target_proj, source_proj, target_res, source_extent, target_extent, mask_extrapolated)\u001b[0m\n\u001b[0;32m    189\u001b[0m     source_native_xy = mesh_projection(source_proj, nx, ny,\n\u001b[0;32m    190\u001b[0m                                        \u001b[0mx_extents\u001b[0m\u001b[1;33m=\u001b[0m\u001b[0msource_x_extents\u001b[0m\u001b[1;33m,\u001b[0m\u001b[1;33m\u001b[0m\u001b[0m\n\u001b[1;32m--> 191\u001b[1;33m                                        y_extents=source_y_extents)\n\u001b[0m\u001b[0;32m    192\u001b[0m \u001b[1;33m\u001b[0m\u001b[0m\n\u001b[0;32m    193\u001b[0m     \u001b[1;31m# XXX Take into account the extents of the original to determine\u001b[0m\u001b[1;33m\u001b[0m\u001b[1;33m\u001b[0m\u001b[0m\n",
      "\u001b[1;32m/opt/conda/lib/python2.7/site-packages/cartopy/img_transform.py\u001b[0m in \u001b[0;36mmesh_projection\u001b[1;34m(projection, nx, ny, x_extents, y_extents)\u001b[0m\n\u001b[0;32m     87\u001b[0m \u001b[1;33m\u001b[0m\u001b[0m\n\u001b[0;32m     88\u001b[0m     \u001b[1;31m# Generate the x-direction and y-direction meshgrids.\u001b[0m\u001b[1;33m\u001b[0m\u001b[1;33m\u001b[0m\u001b[0m\n\u001b[1;32m---> 89\u001b[1;33m     \u001b[0mx\u001b[0m\u001b[1;33m,\u001b[0m \u001b[0my\u001b[0m \u001b[1;33m=\u001b[0m \u001b[0mnp\u001b[0m\u001b[1;33m.\u001b[0m\u001b[0mmeshgrid\u001b[0m\u001b[1;33m(\u001b[0m\u001b[0mx\u001b[0m\u001b[1;33m,\u001b[0m \u001b[0my\u001b[0m\u001b[1;33m)\u001b[0m\u001b[1;33m\u001b[0m\u001b[0m\n\u001b[0m\u001b[0;32m     90\u001b[0m     \u001b[1;32mreturn\u001b[0m \u001b[0mx\u001b[0m\u001b[1;33m,\u001b[0m \u001b[0my\u001b[0m\u001b[1;33m,\u001b[0m \u001b[1;33m[\u001b[0m\u001b[0mx_lower\u001b[0m\u001b[1;33m,\u001b[0m \u001b[0mx_upper\u001b[0m\u001b[1;33m,\u001b[0m \u001b[0my_lower\u001b[0m\u001b[1;33m,\u001b[0m \u001b[0my_upper\u001b[0m\u001b[1;33m]\u001b[0m\u001b[1;33m\u001b[0m\u001b[0m\n\u001b[0;32m     91\u001b[0m \u001b[1;33m\u001b[0m\u001b[0m\n",
      "\u001b[1;32m/opt/conda/lib/python2.7/site-packages/numpy/lib/function_base.pyc\u001b[0m in \u001b[0;36mmeshgrid\u001b[1;34m(*xi, **kwargs)\u001b[0m\n\u001b[0;32m   3679\u001b[0m         \u001b[1;31m# Return the full N-D matrix (not only the 1-D vector)\u001b[0m\u001b[1;33m\u001b[0m\u001b[1;33m\u001b[0m\u001b[0m\n\u001b[0;32m   3680\u001b[0m         \u001b[1;32mif\u001b[0m \u001b[0mcopy_\u001b[0m\u001b[1;33m:\u001b[0m\u001b[1;33m\u001b[0m\u001b[0m\n\u001b[1;32m-> 3681\u001b[1;33m             \u001b[0mmult_fact\u001b[0m \u001b[1;33m=\u001b[0m \u001b[0mnp\u001b[0m\u001b[1;33m.\u001b[0m\u001b[0mones\u001b[0m\u001b[1;33m(\u001b[0m\u001b[0mshape\u001b[0m\u001b[1;33m,\u001b[0m \u001b[0mdtype\u001b[0m\u001b[1;33m=\u001b[0m\u001b[0mint\u001b[0m\u001b[1;33m)\u001b[0m\u001b[1;33m\u001b[0m\u001b[0m\n\u001b[0m\u001b[0;32m   3682\u001b[0m             \u001b[1;32mreturn\u001b[0m \u001b[1;33m[\u001b[0m\u001b[0mx\u001b[0m \u001b[1;33m*\u001b[0m \u001b[0mmult_fact\u001b[0m \u001b[1;32mfor\u001b[0m \u001b[0mx\u001b[0m \u001b[1;32min\u001b[0m \u001b[0moutput\u001b[0m\u001b[1;33m]\u001b[0m\u001b[1;33m\u001b[0m\u001b[0m\n\u001b[0;32m   3683\u001b[0m         \u001b[1;32melse\u001b[0m\u001b[1;33m:\u001b[0m\u001b[1;33m\u001b[0m\u001b[0m\n",
      "\u001b[1;32m/opt/conda/lib/python2.7/site-packages/numpy/core/numeric.pyc\u001b[0m in \u001b[0;36mones\u001b[1;34m(shape, dtype, order)\u001b[0m\n\u001b[0;32m    181\u001b[0m \u001b[1;33m\u001b[0m\u001b[0m\n\u001b[0;32m    182\u001b[0m     \"\"\"\n\u001b[1;32m--> 183\u001b[1;33m     \u001b[0ma\u001b[0m \u001b[1;33m=\u001b[0m \u001b[0mempty\u001b[0m\u001b[1;33m(\u001b[0m\u001b[0mshape\u001b[0m\u001b[1;33m,\u001b[0m \u001b[0mdtype\u001b[0m\u001b[1;33m,\u001b[0m \u001b[0morder\u001b[0m\u001b[1;33m)\u001b[0m\u001b[1;33m\u001b[0m\u001b[0m\n\u001b[0m\u001b[0;32m    184\u001b[0m     \u001b[0mmultiarray\u001b[0m\u001b[1;33m.\u001b[0m\u001b[0mcopyto\u001b[0m\u001b[1;33m(\u001b[0m\u001b[0ma\u001b[0m\u001b[1;33m,\u001b[0m \u001b[1;36m1\u001b[0m\u001b[1;33m,\u001b[0m \u001b[0mcasting\u001b[0m\u001b[1;33m=\u001b[0m\u001b[1;34m'unsafe'\u001b[0m\u001b[1;33m)\u001b[0m\u001b[1;33m\u001b[0m\u001b[0m\n\u001b[0;32m    185\u001b[0m     \u001b[1;32mreturn\u001b[0m \u001b[0ma\u001b[0m\u001b[1;33m\u001b[0m\u001b[0m\n",
      "\u001b[1;31mMemoryError\u001b[0m: "
     ]
    },
    {
     "data": {
      "image/png": "[encoded data removed]",
      "text/plain": [
       "<matplotlib.figure.Figure at 0x7f471ebb6310>"
      ]
     },
     "metadata": {},
     "output_type": "display_data"
    }
   ],
   "source": [
    "\n",
    "# rootgrp = Dataset(\"Resources/velocity_EU.nc\", \"r\", format=\"NETCDF4\")\n",
    "rootgrp = Dataset(\"Resources/velocity_EU.nc\", \"r\", format=\"NETCDF4\")\n",
    "\n",
    "ve = rootgrp.variables[\"ve\"]\n",
    "vn = rootgrp.variables[\"vn\"]\n",
    "\n",
    "lonv = rootgrp.variables[\"lon\"]\n",
    "latv = rootgrp.variables[\"lat\"]\n",
    "\n",
    "lons = lonv[::5]\n",
    "lats = latv[::5]\n",
    "llX, llY = np.meshgrid(lons,lats)\n",
    "\n",
    "#llX = llX.reshape(-1)\n",
    "#llY = llY.reshape(-1)\n",
    "\n",
    "Veast = (np.array(ve[::5,::5]).T)\n",
    "Vnorth = (np.array(vn[::5,::5]).T)\n",
    "\n",
    "Vorientation = np.arctan2(Vnorth,Veast)\n",
    "\n",
    "\n",
    "#projection = ccrs.Orthographic(central_longitude=-150.0, central_latitude=60.0, globe=None)\n",
    "projection = ccrs.Orthographic(central_longitude=120.0, central_latitude=5.0, globe=None)\n",
    "projection = ccrs.PlateCarree()\n",
    "# projection = ccrs.Mollweide(central_longitude=120)\n",
    "projection = ccrs.Robinson(central_longitude=120)\n",
    "\n",
    "fig = plt.figure(figsize=(24, 12), facecolor=\"none\")\n",
    "\n",
    "ax = plt.axes(projection=projection)\n",
    "\n",
    "\n",
    "# ax.imshow(etopoH_img, transform=ccrs.PlateCarree(), origin=\"upper\", \n",
    "#            alpha=1.0, extent=global_extent, interpolation=\"spline16\", cmap=cm.gray_r, zorder=0)\n",
    "\n",
    "\n",
    "ax.imshow(etopoH_img, transform=ccrs.PlateCarree(), origin=\"upper\", \n",
    "           alpha=1.0, extent=global_extent, interpolation=\"nearest\", cmap=cm.gray_r, zorder=0)\n",
    "\n",
    "\n",
    "\n",
    "\n",
    "# global_shrelief_img\n",
    "\n",
    "# mappable2 = ax.contourf(strainrate_data[:,:,0], strainrate_data[:2,:2,1], strainrate_data[:2,:2,2], \n",
    "#          levels=[10, 20, 50, 100, 200, 500], linestyle=None, vmin=1.0, vmax=200,\n",
    "#          transform=base_projection,  cmap=cm.OrRd_r, alpha=0.75, \n",
    "#          extent=strainrate_extent, extend=\"max\", zorder=12)\n",
    "\n",
    "\n",
    "plt.colorbar(mappable=mappable2)\n",
    "\n",
    "\n",
    "\n",
    "\n",
    "mappable1 = ax.quiver(llX, llY, Veast, Vnorth, Vorientation, scale=2000, transform=ccrs.PlateCarree(),\n",
    "        cmap=cm.Blues, alpha=0.7, zorder=13, pivot=\"mid\")\n",
    "#ax.streamplot(lons, lats, Veast, Vnorth, transform=ccrs.PlateCarree())\n",
    "\n",
    "\n",
    "ax.add_feature(coastline, linewidth=1.0,  edgecolor=\"#000000\", zorder=2, alpha=0.75)\n",
    "# ax.add_feature(rivers,    linewidth=1,    edgecolor=\"Blue\", zorder=2)\n",
    "# ax.add_feature(lakes,     linewidth=1,    edgecolor=\"Blue\", zorder=3, alpha=0.25)\n",
    "# ax.add_feature(graticules_5, linewidth=0.25, edgecolor=\"black\", linestyle=\":\", zorder=1, alpha=0.75)\n",
    "\n"
   ]
  },
  {
   "cell_type": "code",
   "execution_count": null,
   "metadata": {
    "collapsed": false
   },
   "outputs": [],
   "source": [
    "#fig.savefig(\"PlateMotionsPlateCarree.png\", dpi=300) \n",
    "fig.savefig(\"PlateMotionsRobinson.png\", dpi=500)"
   ]
  },
  {
   "cell_type": "code",
   "execution_count": null,
   "metadata": {
    "collapsed": true
   },
   "outputs": [],
   "source": []
  }
 ],
 "metadata": {
  "kernelspec": {
   "display_name": "Python 2",
   "language": "python",
   "name": "python2"
  },
  "language_info": {
   "codemirror_mode": {
    "name": "ipython",
    "version": 2
   },
   "file_extension": ".py",
   "mimetype": "text/x-python",
   "name": "python",
   "nbconvert_exporter": "python",
   "pygments_lexer": "ipython2",
   "version": "2.7.11"
  }
 },
 "nbformat": 4,
 "nbformat_minor": 0
}
