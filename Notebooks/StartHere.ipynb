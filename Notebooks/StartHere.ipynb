{
 "cells": [
  {
   "cell_type": "markdown",
   "metadata": {},
   "source": [
    "## Introduction to Python 2016\n",
    "\n",
    "University of Melbourne\n",
    "\n",
    "School of Earth Sciences\n",
    "\n",
    "Louis Moresi\n",
    "\n",
    "[louis.moresi@unimelb.edu.au](mailto:louis.moresi@unimelb.edu.au)\n",
    "\n",
    "[www.moresi.info](http://www.moresi.info)\n",
    "\n",
    "\n",
    "### Quick links\n",
    "\n",
    " - [Browse](/tree) all files that make up the course, start a new notebook or access the terminal.\n",
    " - Run the [Mapping Notebooks](/tree/Mapping) \n",
    " - If you are running in the Docker environment, you can drill through to [local files](/tree/external) if they have been correctly mounted as a volume within the container.  \n",
    "\n",
    "\n",
    "### What is this ?\n",
    "\n",
    "\n",
    "We will be working in the iPython / Jupyter notebook system. I like these because they are a form of literate programming in which we can mix textbook instruction and explanations with code that can also be run and edited.\n",
    "The text and mathematics in the notebooks requires a little preliminary learning. \n",
    "\n",
    "The notebook system also includes a [file browser](/tree) which also allows you to add your own notebook, add a text file or start a terminal on the machine running this notebook. \n",
    "\n",
    "\n",
    "### Markdown\n",
    "\n",
    "You can document your iPython notebooks by making some cells into **Markdown** cells. Markdown is a way of formatting text that is supposed to be almost as readable un-rendered as when it is tidied up. You might argue that it looks equally bad either way, but that's tough because the notebooks use it and that's how I want you to produce nice looking output to hand in as an assignment !\n",
    "\n",
    "If you look at the **Markdown** cells as source code (by double-clicking on them) you will see how the raw text looks. To get back to the pretty version of the text, hit shift-enter.\n",
    "\n",
    "### Maths\n",
    "\n",
    "In a browser, you can render beautiful equations using a javascript tool called **Mathjax** which is build into the iPython notebooks. \n",
    "\n",
    "\n",
    "You can build in symbols to your text such as $\\pi$ and $\\epsilon$ if you use the \\$ signs to indicate where your equations begin and end, and you know enough $\\LaTeX$ [try it here !](http://www.codecogs.com/latex/eqneditor.php) to get by.\n",
    "\n",
    "\n",
    "Equations in 'display' mode are written like this (again look at the source for this cell to see what is used)\n",
    "\n",
    "\\\\[ e^{i\\pi} + 1 = 0 \\\\]\n",
    "\n",
    "or even like this\n",
    "\n",
    "\\begin{equation}\n",
    "%%\n",
    "    \\nabla^4 \\psi = \\frac{\\partial T}{\\partial x}\n",
    "%%    \n",
    "\\end{equation}\n",
    "\n",
    "Go back to the rendered form of the cell by 'running' it.\n",
    "\n",
    "### Links \n",
    "\n",
    "[Markdown Website](http://daringfireball.net/projects/markdown/)\n",
    "\n",
    "[Mathjax Website](http://docs.mathjax.org)\n",
    "\n",
    "[Jupyter Notebooks](http://www.jupyter.org)\n",
    "\n",
    "\n"
   ]
  },
  {
   "cell_type": "code",
   "execution_count": null,
   "metadata": {
    "collapsed": true
   },
   "outputs": [],
   "source": []
  }
 ],
 "metadata": {
  "kernelspec": {
   "display_name": "Python 2",
   "language": "python",
   "name": "python2"
  },
  "language_info": {
   "codemirror_mode": {
    "name": "ipython",
    "version": 2
   },
   "file_extension": ".py",
   "mimetype": "text/x-python",
   "name": "python",
   "nbconvert_exporter": "python",
   "pygments_lexer": "ipython2",
   "version": "2.7.9"
  }
 },
 "nbformat": 4,
 "nbformat_minor": 0
}
