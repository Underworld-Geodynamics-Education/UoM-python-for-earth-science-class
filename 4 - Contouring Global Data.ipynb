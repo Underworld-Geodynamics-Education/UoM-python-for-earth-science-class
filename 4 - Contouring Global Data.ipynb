{
 "cells": [
  {
   "cell_type": "markdown",
   "metadata": {},
   "source": [
    "## How to use contours to view global data\n",
    "\n",
    "We will look at a couple of datasets and see how best to view them with contours instead of rendering everything as a global image. We have global strain rate and global sea-floor age. Both datasets have holes in them !"
   ]
  },
  {
   "cell_type": "code",
   "execution_count": null,
   "metadata": {
    "collapsed": false
   },
   "outputs": [],
   "source": [
    "%pylab inline\n",
    "\n",
    "import cartopy\n",
    "import gdal\n",
    "import cartopy.crs as ccrs\n",
    "import matplotlib.pyplot as plt"
   ]
  },
  {
   "cell_type": "code",
   "execution_count": null,
   "metadata": {
    "collapsed": true
   },
   "outputs": [],
   "source": [
    "global_extent     = [-180.0, 180.0, -90.0, 90.0]\n",
    "globalmarble      = gdal.Open(\"BlueMarbleNG-TB_2004-07-01_rgb_3600x1800.TIFF\")\n",
    "globalmarble_img  = globalmarble.ReadAsArray().transpose(1,2,0)\n",
    "globaletopo       = gdal.Open(\"color_etopo1_ice_low.tif\")\n",
    "globaletopo_img   = globaletopo.ReadAsArray().transpose(1,2,0)"
   ]
  },
  {
   "cell_type": "code",
   "execution_count": null,
   "metadata": {
    "collapsed": true
   },
   "outputs": [],
   "source": [
    "# Global strain rate data - from Unavco\n",
    "\n",
    "strainrate_extent=[-180,180,-68,80]\n",
    "strainrate = numpy.loadtxt(\"sec_invariant_strain_0.2.dat\")\n",
    "strainrate_data = strainrate.reshape(741,1800,3)  # I had to look at the data to work this out !\n",
    "strainrate_img  = strainrate_data[:,:,2]\n"
   ]
  },
  {
   "cell_type": "code",
   "execution_count": null,
   "metadata": {
    "collapsed": false
   },
   "outputs": [],
   "source": [
    "projection1 = ccrs.Orthographic(central_longitude=140.0, central_latitude=0.0, globe=None)\n",
    "projection2 = ccrs.Mollweide()\n",
    "\n",
    "base_projection = ccrs.PlateCarree()\n",
    "\n",
    "fig = plt.figure(figsize=(12, 12), facecolor=\"none\")\n",
    "ax = plt.subplot(111, projection=projection2)\n",
    "ax.set_global()\n",
    "ax.imshow(globaletopo_img, origin='upper', transform=base_projection, extent=global_extent, zorder=0)\n",
    "ax.imshow(globalmarble_img, origin='upper', transform=base_projection, extent=global_extent, alpha=0.5, zorder=1)\n",
    "\n",
    "ax.contourf(strainrate_data[:,:,0], strainrate_data[:,:,1], strainrate_data[:,:,2], \n",
    "         levels=[20,30,40,50,60,70,80,90,100,300,500,1000], linewidth=0.0,\n",
    "         transform=base_projection,  cmap=\"YlOrRd\", zorder=2, alpha=0.8, extent=strainrate_extent)\n",
    "\n",
    "\n",
    "plt.show()"
   ]
  },
  {
   "cell_type": "code",
   "execution_count": null,
   "metadata": {
    "collapsed": false
   },
   "outputs": [],
   "source": [
    "# Seafloor age data and global image - data from Earthbyters\n",
    "\n",
    "age = numpy.loadtxt(\"global_age_data.3.6.xyz\")\n",
    "age_data = age.reshape(1801,3601,3)  # I looked at the data and figured out what numbers to use\n",
    "age_img  = age_data[:,:,2]\n"
   ]
  },
  {
   "cell_type": "code",
   "execution_count": null,
   "metadata": {
    "collapsed": false
   },
   "outputs": [],
   "source": [
    "projection = ccrs.PlateCarree()\n",
    "\n",
    "fig = plt.figure(figsize=(16, 16), facecolor=\"none\", edgecolor=\"none\")\n",
    "ax = plt.axes(projection=projection)\n",
    "ax.coastlines()\n",
    "ax.imshow(globaletopobw_img, origin='upper', transform=base_projection, extent=global_extent, zorder=0, cmap=\"gray\")\n",
    "\n",
    "cf = contourf(age_data[:,:,0], age_data[:,:,1], age_data[:,:,2], \n",
    "         levels = arange(0.5,250,10), vmin=0, vmax=150,\n",
    "         transform=base_projection,  cmap=\"RdYlBu\",zorder=2, alpha=0.5)\n",
    "\n",
    "contour(age_data[:,:,0], age_data[:,:,1], age_data[:,:,2], levels = (0.1,0.5), colors=\"white\", transform=base_projection)\n",
    "\n",
    "# Want to keep the image ? Do something like this:\n",
    "# plt.savefig(\"GlobalAgeMap.tiff\", dpi=300, frameon=False, edgecolor=\"none\", facecolor=\"none\", bbox_inches='tight', pad_inches=0.0)\n",
    "plt.show()"
   ]
  },
  {
   "cell_type": "code",
   "execution_count": null,
   "metadata": {
    "collapsed": true
   },
   "outputs": [],
   "source": []
  }
 ],
 "metadata": {
  "kernelspec": {
   "display_name": "Python 2",
   "language": "python",
   "name": "python2"
  },
  "language_info": {
   "codemirror_mode": {
    "name": "ipython",
    "version": 2
   },
   "file_extension": ".py",
   "mimetype": "text/x-python",
   "name": "python",
   "nbconvert_exporter": "python",
   "pygments_lexer": "ipython2",
   "version": "2.7.9"
  }
 },
 "nbformat": 4,
 "nbformat_minor": 0
}
