{
 "cells": [
  {
   "cell_type": "markdown",
   "metadata": {},
   "source": [
    "We will be working in the iPython / Jupyter notebook system. I like these because they are a form of literate programming in which we can mix textbook instruction and explanations with code that can also be run and edited.\n",
    "\n",
    "The text and mathematics in the notebooks requires a little preliminary learning.\n",
    "\n",
    "### Markdown\n",
    "\n",
    "You can document your iPython notebooks by making some cells into **Markdown** cells. Markdown is a way of formatting text that is supposed to be almost as readable un-rendered as when it is tidied up. You might argue that it looks equally bad either way, but that's tough because the notebooks use it and that's how I want you to produce nice looking output to hand in as an assignment !\n",
    "\n",
    "If you look at the **Markdown** cells as source code (by double-clicking on them) you will see how the raw text looks.\n",
    "\n",
    "### Maths\n",
    "\n",
    "In a browser, you can render beautiful equations using a javascript tool called **Mathjax** which is build into the iPython notebooks. \n",
    "\n",
    "You can build in symbols to your text such as $\\pi$ and $\\epsilon$ if you use the \\$ signs to indicate where your equations begin and end, and you know enough $\\LaTeX$ [try it here !](http://www.codecogs.com/latex/eqneditor.php) to get by.\n",
    "\n",
    "Equations in 'display' mode are written like this\n",
    "\n",
    "$$ e^{i\\pi} + 1 = 0 $$\n",
    "\n",
    "Go back to the rendered form of the cell by 'running' it.\n",
    "\n",
    "### Links \n",
    "\n",
    "[Markdown Website](http://daringfireball.net/projects/markdown/)\n",
    "\n",
    "[Mathjax Website](http://docs.mathjax.org)"
   ]
  },
  {
   "cell_type": "markdown",
   "metadata": {},
   "source": [
    "### Datasets\n",
    "\n",
    "We need to download some data for the examples. Some files are bundled with the notebooks but some are too large for the repository (and generally, that's not a place to keep anything which is not the primary target of revision management. \n",
    "\n",
    "#### Global Magnetic Data\n",
    "\n",
    "Magnetic intensity data from [geomag.org](http://geomag.org/models/EMAG2/EMAG2_V2.tif)\n",
    "\n"
   ]
  },
  {
   "cell_type": "code",
   "execution_count": null,
   "metadata": {
    "collapsed": false
   },
   "outputs": [],
   "source": [
    "## Bundle this up in a helper module \n",
    "\n",
    "\n",
    "import requests\n",
    "import os\n",
    "import time\n",
    "import sys\n",
    "\n",
    "def download_file(url, local_filename):\n",
    "\n",
    "    r = requests.get(url, stream=True)\n",
    "             \n",
    "    start_time = time.time()\n",
    "    last_time = start_time\n",
    "    datasize = 0\n",
    "    \n",
    "    with open(local_filename, 'wb') as f:\n",
    "        for chunk in r.iter_content(chunk_size=1000000000): \n",
    "            if chunk: # filter out keep-alive new chunks\n",
    "                f.write(chunk)\n",
    "                f.flush()\n",
    "                datasize += len(chunk)\n",
    "                if (time.time() - last_time) > 2.5:\n",
    "                    print \"{:.1f} Mb in {:.1f}s\".format(datasize / 1.0e6, time.time() - start_time)\n",
    "                    last_time = time.time()\n",
    "\n",
    "    return \n",
    "\n",
    "import hashlib\n",
    "\n",
    "def md5sum(filename, blocksize=65536):\n",
    "    hash = hashlib.md5()\n",
    "    with open(filename, \"r+b\") as f:\n",
    "        for block in iter(lambda: f.read(blocksize), \"\"):\n",
    "            hash.update(block)\n",
    "    return hash.hexdigest()\n",
    "\n",
    "\n",
    "def download_cached_file(location_url, local_file, expected_md5):\n",
    "\n",
    "    try:\n",
    "        assert md5sum(local_file) == expected_md5\n",
    "        print \"Using cached file - {}\".format(local_file)\n",
    "        return(2)\n",
    "    \n",
    "    except (IOError, AssertionError) as error_info:\n",
    "        # No file or the wrong file ... best go download it\n",
    "        # print \"Assertion failed - {}\".format(sys.exc_info())\n",
    "        \n",
    "        try:\n",
    "            mag_data_file = download_file(location_url, local_file)\n",
    "            print \"Downloaded from {}\".format( location_url )\n",
    "            return(1)\n",
    "\n",
    "        except:\n",
    "            print \"Unable to download {} [{}] \".format( location_url, sys.exc_info() )\n",
    "            return(0)\n",
    "\n"
   ]
  },
  {
   "cell_type": "code",
   "execution_count": null,
   "metadata": {
    "collapsed": false
   },
   "outputs": [],
   "source": [
    "# Resources required for the tutorial\n",
    "# The checksum is to make sure any cached file is the right one.\n",
    "# If the checksum is wrong the file gets downloaded anyway\n",
    "\n",
    "resource_list = [\n",
    "# Global magnetic data (120Mb)\n",
    "{\n",
    " \"local_file\":\"Resources/EMAG2_image_V2.tif\",\n",
    " \"md5\":\"20024c06fdabfa57e4f9efb4aabec198\",\n",
    " \"url\":\"http://geomag.org/models/EMAG2/EMAG2_image_V2.tif\"\n",
    "},\n",
    "    \n",
    "# Blue Marble Image Geotiff (2 Mb)  \n",
    "{\n",
    " \"local_file\": \"Resources/land_shallow_topo_2048.tif\",\n",
    " \"md5\": '6390fa98278f6675562b11a6727fc9e5',\n",
    " \"url\":\"http://eoimages.gsfc.nasa.gov/images/imagerecords/57000/57752/land_shallow_topo_2048.tif\"\n",
    "},\n",
    "    \n",
    "# Blue Marble Image with Bathymetry png (2Mb)\n",
    "{\n",
    " \"local_file\": \"Resources/world.topo.bathy.200409.3x5400x2700.png\",\n",
    " \"md5\": 'ef83f9134ab096b0455c30cec926d954',\n",
    " \"url\":\"http://eoimages.gsfc.nasa.gov/images/imagerecords/73000/73801/world.topo.bathy.200409.3x5400x2700.png\"\n",
    "},\n",
    "    \n",
    "\n",
    "]\n",
    "\n"
   ]
  },
  {
   "cell_type": "code",
   "execution_count": null,
   "metadata": {
    "collapsed": false
   },
   "outputs": [],
   "source": [
    "\n",
    "for resource in resource_list:\n",
    "    print \"\\nDownloading {:s}\".format(resource[\"local_file\"])\n",
    "    download_cached_file(resource[\"url\"], resource[\"local_file\"], resource[\"md5\"] )\n",
    "\n"
   ]
  },
  {
   "cell_type": "code",
   "execution_count": null,
   "metadata": {
    "collapsed": false
   },
   "outputs": [],
   "source": [
    "print md5sum(\"Images/world.topo.bathy.200409.3x5400x2700.png\")"
   ]
  },
  {
   "cell_type": "code",
   "execution_count": null,
   "metadata": {
    "collapsed": true
   },
   "outputs": [],
   "source": []
  }
 ],
 "metadata": {
  "kernelspec": {
   "display_name": "Python 2",
   "language": "python",
   "name": "python2"
  },
  "language_info": {
   "codemirror_mode": {
    "name": "ipython",
    "version": 2
   },
   "file_extension": ".py",
   "mimetype": "text/x-python",
   "name": "python",
   "nbconvert_exporter": "python",
   "pygments_lexer": "ipython2",
   "version": "2.7.10"
  }
 },
 "nbformat": 4,
 "nbformat_minor": 0
}
