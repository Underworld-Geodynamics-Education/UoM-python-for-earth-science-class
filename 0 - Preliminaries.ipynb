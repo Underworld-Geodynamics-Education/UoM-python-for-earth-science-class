{
 "cells": [
  {
   "cell_type": "markdown",
   "metadata": {},
   "source": [
    "We will be working in the iPython / Jupyter notebook system. I like these because they are a form of literate programming in which we can mix textbook instruction and explanations with code that can also be run and edited.\n",
    "\n",
    "The text and mathematics in the notebooks requires a little preliminary learning.\n",
    "\n",
    "### Markdown\n",
    "\n",
    "You can document your iPython notebooks by making some cells into **Markdown** cells. Markdown is a way of formatting text that is supposed to be almost as readable un-rendered as when it is tidied up. You might argue that it looks equally bad either way, but that's tough because the notebooks use it and that's how I want you to produce nice looking output to hand in as an assignment !\n",
    "\n",
    "If you look at the **Markdown** cells as source code (by double-clicking on them) you will see how the raw text looks.\n",
    "\n",
    "### Maths\n",
    "\n",
    "In a browser, you can render beautiful equations using a javascript tool called **Mathjax** which is build into the iPython notebooks. \n",
    "\n",
    "You can build in symbols to your text such as $\\pi$ and $\\epsilon$ if you use the \\$ signs to indicate where your equations begin and end, and you know enough $\\LaTeX$ [try it here !](http://www.codecogs.com/latex/eqneditor.php) to get by.\n",
    "\n",
    "Equations in 'display' mode are written like this\n",
    "\n",
    "$$ e^{i\\pi} + 1 = 0 $$\n",
    "\n",
    "Go back to the rendered form of the cell by 'running' it.\n",
    "\n",
    "### Links \n",
    "\n",
    "[Markdown Website](http://daringfireball.net/projects/markdown/)\n",
    "\n",
    "[Mathjax Website](http://docs.mathjax.org)"
   ]
  },
  {
   "cell_type": "markdown",
   "metadata": {},
   "source": [
    "### Datasets\n",
    "\n",
    "We need to download some data for the examples. Some files are bundled with the notebooks but some are too large for the repository (and generally, that's not a place to keep anything which is not the primary target of revision management. \n",
    "\n",
    "#### Global Magnetic Data\n",
    "\n",
    "Magnetic intensity data from [geomag.org](http://geomag.org/models/EMAG2/EMAG2_V2.tif)\n",
    "\n"
   ]
  },
  {
   "cell_type": "code",
   "execution_count": 1,
   "metadata": {
    "collapsed": false
   },
   "outputs": [],
   "source": [
    "## Bundle this up in a helper module \n",
    "\n",
    "\n",
    "import requests\n",
    "import os\n",
    "import time\n",
    "import sys\n",
    "\n",
    "def download_file(url, local_filename, expected_size):\n",
    "\n",
    "    r = requests.get(url, stream=True)\n",
    "             \n",
    "    start_time = time.time()\n",
    "    last_time = start_time\n",
    "    datasize = 0\n",
    "    \n",
    "    with open(local_filename, 'wb') as f:\n",
    "        for chunk in r.iter_content(chunk_size=1000000000): \n",
    "            if chunk: # filter out keep-alive new chunks\n",
    "                f.write(chunk)\n",
    "                f.flush()\n",
    "                datasize += len(chunk)\n",
    "                if (time.time() - last_time) > 2.5:\n",
    "                    print \"{:.1f} Mb in {:.1f}s / {}\".format(datasize / 1.0e6, time.time() - start_time, expected_size)\n",
    "                    last_time = time.time()\n",
    "\n",
    "    return \n",
    "\n",
    "import hashlib\n",
    "\n",
    "def md5sum(filename, blocksize=65536):\n",
    "    hash = hashlib.md5()\n",
    "    with open(filename, \"r+b\") as f:\n",
    "        for block in iter(lambda: f.read(blocksize), \"\"):\n",
    "            hash.update(block)\n",
    "    return hash.hexdigest()\n",
    "\n",
    "\n",
    "def download_cached_file(location_url, local_file, expected_md5, expected_size=\"Unknown\"):\n",
    "\n",
    "    try:\n",
    "        assert md5sum(local_file) == expected_md5\n",
    "        print \"Using cached file - {}\".format(local_file)\n",
    "        return(2)\n",
    "    \n",
    "    except (IOError, AssertionError) as error_info:\n",
    "        # No file or the wrong file ... best go download it\n",
    "        # print \"Assertion failed - {}\".format(sys.exc_info())\n",
    "        \n",
    "        try:\n",
    "            mag_data_file = download_file(location_url, local_file, expected_size)\n",
    "            print \"Downloaded from {}\".format( location_url )\n",
    "            return(1)\n",
    "\n",
    "        except:\n",
    "            print \"Unable to download {} [{}] \".format( location_url, sys.exc_info() )\n",
    "            return(0)\n",
    "\n"
   ]
  },
  {
   "cell_type": "code",
   "execution_count": 6,
   "metadata": {
    "collapsed": false
   },
   "outputs": [],
   "source": [
    "# Resources required for the tutorial\n",
    "# The checksum is to make sure any cached file is the right one.\n",
    "# If the checksum is wrong the file gets downloaded anyway\n",
    "\n",
    "resource_list = [\n",
    "# Global magnetic data (120Mb)\n",
    "{\n",
    " \"local_file\":\"Resources/EMAG2_image_V2.tif\",\n",
    " \"md5\":\"20024c06fdabfa57e4f9efb4aabec198\",\n",
    " \"url\":\"http://geomag.org/models/EMAG2/EMAG2_image_V2.tif\",\n",
    " \"expected_size\":\"120Mb\"\n",
    "},\n",
    "    \n",
    "# Blue Marble Image Geotiff June 2004 (11Mb)  \n",
    "{\n",
    " \"local_file\": \"Resources/BlueMarbleNG-TB_2004-06-01_rgb_3600x1800.TIFF\",\n",
    " \"md5\": '55e1399674d43a26353d84c114d7ff80',\n",
    " \"url\":\"http://neo.sci.gsfc.nasa.gov/servlet/RenderData?si=526294&cs=rgb&format=TIFF&width=3600&height=1800\",\n",
    " \"expected_size\":\"11Mb\"\n",
    "},\n",
    "    \n",
    "    \n",
    "# Blue Marble Image with Bathymetry png - December 2004 (11Mb)\n",
    "{\n",
    " \"local_file\": \"Resources/BlueMarbleNG-TB_2004-12-01_rgb_3600x1800.TIFF\",\n",
    " \"md5\": '825da4b417ae19e24d2ea6db6cf8ad21',\n",
    " \"url\":\"http://neo.sci.gsfc.nasa.gov/servlet/RenderData?si=526311&cs=rgb&format=TIFF&width=3600&height=1800\",\n",
    " \"expected_size\":\"11Mb\"\n",
    "},\n",
    "    \n",
    "# Etopo1 - color image (34M)\n",
    "{\n",
    " \"local_file\": \"Resources/color_etopo1_ice_low.tif.zip\",\n",
    " \"md5\": '3f53d72e85393deb28874db0c76fbfcb',\n",
    " \"url\":\"https://www.ngdc.noaa.gov/mgg/global/relief/ETOPO1/image/color_etopo1_ice_low.tif.zip\",\n",
    " \"expected_size\":\"34Mb\"\n",
    "}\n",
    "]\n",
    "\n"
   ]
  },
  {
   "cell_type": "code",
   "execution_count": 7,
   "metadata": {
    "collapsed": false
   },
   "outputs": [
    {
     "name": "stdout",
     "output_type": "stream",
     "text": [
      "\n",
      "Downloading Resources/EMAG2_image_V2.tif\n",
      "Using cached file - Resources/EMAG2_image_V2.tif\n",
      "\n",
      "Downloading Resources/BlueMarbleNG-TB_2004-06-01_rgb_3600x1800.TIFF\n",
      "1.1 Mb in 2.5s / 2Mb\n",
      "9.9 Mb in 5.1s / 2Mb\n",
      "Downloaded from http://neo.sci.gsfc.nasa.gov/servlet/RenderData?si=526294&cs=rgb&format=TIFF&width=3600&height=1800\n",
      "\n",
      "Downloading Resources/BlueMarbleNG-TB_2004-12-01_rgb_3600x1800.TIFF\n",
      "1.3 Mb in 2.5s / Unknown\n",
      "10.0 Mb in 5.1s / Unknown\n",
      "Downloaded from http://neo.sci.gsfc.nasa.gov/servlet/RenderData?si=526311&cs=rgb&format=TIFF&width=3600&height=1800\n",
      "\n",
      "Downloading Resources/color_etopo1_ice_low.tif.zip\n",
      "Using cached file - Resources/color_etopo1_ice_low.tif.zip\n"
     ]
    }
   ],
   "source": [
    "\n",
    "for resource in resource_list:\n",
    "    print \"\\nDownloading {:s}\".format(resource[\"local_file\"])\n",
    "    download_cached_file(resource[\"url\"], resource[\"local_file\"], resource[\"md5\"], resource[\"expected_size\"] )\n"
   ]
  },
  {
   "cell_type": "code",
   "execution_count": 10,
   "metadata": {
    "collapsed": false
   },
   "outputs": [
    {
     "name": "stdout",
     "output_type": "stream",
     "text": [
      "825da4b417ae19e24d2ea6db6cf8ad21\n"
     ]
    }
   ],
   "source": [
    "print md5sum(\"Resources/BlueMarbleNG-TB_2004-12-01_rgb_3600x1800.TIFF\")"
   ]
  },
  {
   "cell_type": "code",
   "execution_count": 5,
   "metadata": {
    "collapsed": false
   },
   "outputs": [
    {
     "name": "stdout",
     "output_type": "stream",
     "text": [
      "Unzipped Resources/color_etopo1_ice_low.tif.zip\n"
     ]
    }
   ],
   "source": [
    "# Extract any files that were downloaded as zip archives\n",
    "\n",
    "import zipfile\n",
    "import glob\n",
    "\n",
    "for zipped in glob.glob(\"Resources/*.zip\"):\n",
    "    with zipfile.ZipFile(zipped) as zf:\n",
    "        zf.extractall(\"Resources\")\n",
    "        print \"Unzipped {}\".format(zipped)"
   ]
  },
  {
   "cell_type": "code",
   "execution_count": null,
   "metadata": {
    "collapsed": false
   },
   "outputs": [],
   "source": []
  },
  {
   "cell_type": "code",
   "execution_count": 8,
   "metadata": {
    "collapsed": false
   },
   "outputs": [
    {
     "name": "stdout",
     "output_type": "stream",
     "text": [
      "total 493824\r\n",
      "-rw-r--r--  1 lmoresi  staff   10714734 14 Sep 15:39 BlueMarbleNG-TB_2004-06-01_rgb_3600x1800.TIFF\r\n",
      "-rw-r--r--  1 lmoresi  staff   10854863 14 Sep 15:39 BlueMarbleNG-TB_2004-12-01_rgb_3600x1800.TIFF\r\n",
      "-rw-r--r--  1 lmoresi  staff  134722670 14 Sep 15:14 EMAG2_image_V2.tif\r\n",
      "-rw-r--r--  1 lmoresi  staff        181 14 Sep 14:28 README.md\r\n",
      "-rw-r--r--  1 lmoresi  staff   43762944 14 Sep 15:30 color_etopo1_ice_low.tif\r\n",
      "-rw-r--r--  1 lmoresi  staff   35751844 14 Sep 15:20 color_etopo1_ice_low.tif.zip\r\n",
      "-rw-r--r--  1 lmoresi  staff    1941290 14 Sep 15:15 land_shallow_topo_2048.tif\r\n",
      "-rw-r--r--  1 lmoresi  staff   15071572 14 Sep 15:15 world.topo.bathy.200409.3x5400x2700.png\r\n"
     ]
    }
   ],
   "source": [
    "ls -l Resources\n"
   ]
  },
  {
   "cell_type": "code",
   "execution_count": null,
   "metadata": {
    "collapsed": true
   },
   "outputs": [],
   "source": []
  }
 ],
 "metadata": {
  "kernelspec": {
   "display_name": "Python 2",
   "language": "python",
   "name": "python2"
  },
  "language_info": {
   "codemirror_mode": {
    "name": "ipython",
    "version": 2
   },
   "file_extension": ".py",
   "mimetype": "text/x-python",
   "name": "python",
   "nbconvert_exporter": "python",
   "pygments_lexer": "ipython2",
   "version": "2.7.10"
  }
 },
 "nbformat": 4,
 "nbformat_minor": 0
}
