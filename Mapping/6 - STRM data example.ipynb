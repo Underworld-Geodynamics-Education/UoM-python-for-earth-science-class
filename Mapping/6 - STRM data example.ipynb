{
 "cells": [
  {
   "cell_type": "code",
   "execution_count": null,
   "metadata": {
    "collapsed": false
   },
   "outputs": [],
   "source": [
    "%pylab inline\n",
    "\n",
    "\n",
    "import matplotlib.pyplot as plt\n",
    "import numpy as np\n",
    "\n",
    "import cartopy.crs as ccrs\n",
    "from cartopy.io.srtm import srtm_composite\n",
    "\n",
    "from osgeo import gdal\n",
    "from osgeo import gdal_array"
   ]
  },
  {
   "cell_type": "markdown",
   "metadata": {},
   "source": [
    "## Google map tiles with cartopy !\n",
    "\n",
    "For a given lat / lon box, we can download (on demand) map tiles and plot them ... \n"
   ]
  },
  {
   "cell_type": "code",
   "execution_count": null,
   "metadata": {
    "collapsed": false
   },
   "outputs": [],
   "source": [
    "from cartopy.io.img_tiles import GoogleTiles\n",
    "\n",
    "# Specify a region of interest\n",
    "\n",
    "lat0 =  33  ; lat1 = 37\n",
    "lon0 =  -120; lon1 = -116\n",
    "\n",
    "gg_tiles = GoogleTiles()\n",
    "\n",
    "plt.figure(figsize=(10, 10))\n",
    "\n",
    "\n",
    "ax = plt.subplot(111, projection=gg_tiles.crs)\n",
    "ax.set_extent([lon0, lon1, lat0, lat1])\n",
    "ax.add_image(gg_tiles, 11)\n",
    "\n",
    "plt.scatter(lon0, lat0, marker=(5, 1), color='red', s=200)\n",
    "gl = ax.gridlines(draw_labels=True,)\n",
    "gl.xlabels_top = False\n",
    "gl.ylabels_left = False"
   ]
  },
  {
   "cell_type": "code",
   "execution_count": null,
   "metadata": {
    "collapsed": false
   },
   "outputs": [],
   "source": [
    "# plt.figure(figsize=(15, 10))\n",
    "# ax = plt.subplot(111, projection=ccrs.PlateCarree())\n",
    "\n",
    "# elev, crs, extent = srtm_composite(12, 47, 1, 1)\n",
    "# plt.imshow(elev, extent=extent, transform=crs,\n",
    "#            cmap='gist_earth', origin='lower')\n",
    "# cb = plt.colorbar(orientation='vertical')\n",
    "# cb.set_label('Altitude')\n",
    "# plt.title(\"SRTM Map\")\n",
    "# gl = ax.gridlines(draw_labels=True,)\n",
    "# gl.xlabels_top = False\n",
    "# gl.ylabels_left = False\n",
    "\n",
    "\n",
    "plt.figure(figsize=(15, 10))\n",
    "ax = plt.subplot(111, projection=ccrs.PlateCarree())\n",
    "\n",
    "elev, crs, extent = srtm_composite(lon0, lat0, 1, 1)\n",
    "elev = np.ma.masked_less_equal(elev,0,copy=False)\n",
    "plt.imshow(elev, extent=extent, transform=crs,\n",
    "           cmap='gist_earth', origin='lower')\n",
    "cb = plt.colorbar(orientation='vertical')\n",
    "cb.set_label('Altitude')\n",
    "plt.title(\"SRTM Map\")\n",
    "gl = ax.gridlines(draw_labels=True,)\n",
    "gl.xlabels_top = False\n",
    "gl.ylabels_left = False\n",
    "\n"
   ]
  },
  {
   "cell_type": "code",
   "execution_count": null,
   "metadata": {
    "collapsed": false
   },
   "outputs": [],
   "source": [
    "plt.figure(figsize=(15, 10))\n",
    "ax = plt.subplot(111, projection=ccrs.PlateCarree())\n",
    "\n",
    "elev, crs, extent = srtm_composite(-120, 33, 4, 4)\n",
    "elev = np.ma.masked_less_equal(elev, -100, copy=False)\n",
    "\n",
    "plt.imshow(elev, extent=extent, transform=crs,\n",
    "           cmap='terrain', origin='lower')\n",
    "cb = plt.colorbar(orientation='vertical')\n",
    "cb.set_label('Altitude')\n",
    "plt.title(\"SRTM Map\")\n",
    "gl = ax.gridlines(draw_labels=True,)\n",
    "gl.xlabels_top = False\n",
    "gl.ylabels_left = False"
   ]
  },
  {
   "cell_type": "code",
   "execution_count": null,
   "metadata": {
    "collapsed": false
   },
   "outputs": [],
   "source": [
    "# Patching holes in the data by a smoothing / interpolation routine from gdal\n",
    "\n",
    "elev, crs, extent = srtm_composite(-120, 33, 4, 4)\n",
    "src_ds = gdal_array.OpenArray(elev)\n",
    "srcband = src_ds.GetRasterBand(1)\n",
    "dstband = srcband\n",
    "maskband = srcband\n",
    "smoothing_iterations = 0\n",
    "options = []\n",
    "max_distance = 0.1\n",
    "result = gdal.FillNodata(dstband, maskband,\n",
    "                         max_distance, smoothing_iterations, options,\n",
    "                         callback=None)\n",
    "elev = dstband.ReadAsArray()\n",
    "\n"
   ]
  },
  {
   "cell_type": "code",
   "execution_count": null,
   "metadata": {
    "collapsed": false
   },
   "outputs": [],
   "source": [
    "# And plotting\n",
    "\n",
    "plt.figure(figsize=(15, 10))\n",
    "ax = plt.subplot(111, projection=ccrs.PlateCarree())\n",
    "\n",
    "plt.imshow(elev, extent=extent, transform=crs, cmap='terrain', origin='lower', vmin=0.0, vmax=4000.0)\n",
    "\n",
    "cb = plt.colorbar(orientation='vertical')\n",
    "cb.set_label('Altitude')\n",
    "plt.title(\"SRTM Map\")\n",
    "gl = ax.gridlines(draw_labels=True,)\n",
    "gl.xlabels_top = False\n",
    "gl.ylabels_left = False"
   ]
  },
  {
   "cell_type": "code",
   "execution_count": null,
   "metadata": {
    "collapsed": true
   },
   "outputs": [],
   "source": []
  }
 ],
 "metadata": {
  "kernelspec": {
   "display_name": "Python 2",
   "language": "python",
   "name": "python2"
  },
  "language_info": {
   "codemirror_mode": {
    "name": "ipython",
    "version": 2
   },
   "file_extension": ".py",
   "mimetype": "text/x-python",
   "name": "python",
   "nbconvert_exporter": "python",
   "pygments_lexer": "ipython2",
   "version": "2.7.10"
  }
 },
 "nbformat": 4,
 "nbformat_minor": 0
}
